{
 "cells": [
  {
   "cell_type": "code",
   "execution_count": 17,
   "metadata": {},
   "outputs": [],
   "source": [
    "class Student:\n",
    "    def __init__(self, name, yob, grade):\n",
    "        self.name = name\n",
    "        self.yob = yob\n",
    "        self.grade = grade\n",
    "    def describe(self):\n",
    "        print(f\"Student - Name: {self.name} - YoB: {self.yob} - Grade: {self.grade}\")"
   ]
  },
  {
   "cell_type": "code",
   "execution_count": 18,
   "metadata": {},
   "outputs": [],
   "source": [
    "class Teacher:\n",
    "    def __init__(self, name, yob, subject):\n",
    "        self.name = name\n",
    "        self.yob = yob\n",
    "        self.subject = subject\n",
    "    def describe(self):\n",
    "        print(f\"Teacher - Name: {self.name} - YoB: {self.yob} - Subject: {self.subject}\")"
   ]
  },
  {
   "cell_type": "code",
   "execution_count": 19,
   "metadata": {},
   "outputs": [],
   "source": [
    "class Doctor:\n",
    "    def __init__(self, name, yob, specialist):\n",
    "        self.name = name\n",
    "        self.yob = yob\n",
    "        self.specialist = specialist\n",
    "    def describe(self):\n",
    "        print(f\"Doctor - Name: {self.name} - YoB: {self.yob} - Specialist: {self.specialist}\")"
   ]
  },
  {
   "cell_type": "code",
   "execution_count": 20,
   "metadata": {},
   "outputs": [],
   "source": [
    "class Ward:\n",
    "    def __init__(self, name, people = []):\n",
    "        self.name = name\n",
    "        self.people = people\n",
    "\n",
    "    def add_person(self, person):\n",
    "        self.people.append(person)\n",
    "\n",
    "    def describe(self):\n",
    "        print(f\"Ward: {self.name}\")\n",
    "        for person in self.people:\n",
    "            person.describe()\n",
    "\n",
    "    def count_doctor(self):\n",
    "        count = 0\n",
    "        for person in self.people:\n",
    "            if isinstance(person, Doctor):\n",
    "                count += 1\n",
    "        return count\n",
    "\n",
    "    def sort_age(self):\n",
    "        self.people.sort(key = lambda x: x.yob, reverse = True)\n",
    "\n",
    "    def compute_average(self):\n",
    "        sum = 0\n",
    "        count = 0\n",
    "        for person in self.people:\n",
    "            if isinstance(person, Teacher):\n",
    "                sum += person.yob\n",
    "                count += 1\n",
    "        return sum/count"
   ]
  },
  {
   "cell_type": "markdown",
   "metadata": {},
   "source": [
    "2a"
   ]
  },
  {
   "cell_type": "code",
   "execution_count": 21,
   "metadata": {},
   "outputs": [
    {
     "name": "stdout",
     "output_type": "stream",
     "text": [
      "Student - Name: studentA - YoB: 2010 - Grade: 7\n"
     ]
    }
   ],
   "source": [
    "student1 = Student(\"studentA\", 2010, \"7\")\n",
    "student1.describe()"
   ]
  },
  {
   "cell_type": "code",
   "execution_count": 22,
   "metadata": {},
   "outputs": [
    {
     "name": "stdout",
     "output_type": "stream",
     "text": [
      "Teacher - Name: teacherA - YoB: 1969 - Subject: Math\n"
     ]
    }
   ],
   "source": [
    "teacher1 = Teacher(\"teacherA\", 1969, \"Math\")\n",
    "teacher1.describe()"
   ]
  },
  {
   "cell_type": "code",
   "execution_count": 23,
   "metadata": {},
   "outputs": [
    {
     "name": "stdout",
     "output_type": "stream",
     "text": [
      "Doctor - Name: doctorA - YoB: 1945 - Specialist: Endocrinologists\n"
     ]
    }
   ],
   "source": [
    "doctor1 = Doctor(\"doctorA\", 1945, \"Endocrinologists\")\n",
    "doctor1.describe()"
   ]
  },
  {
   "cell_type": "markdown",
   "metadata": {},
   "source": [
    "2b"
   ]
  },
  {
   "cell_type": "code",
   "execution_count": 24,
   "metadata": {},
   "outputs": [
    {
     "name": "stdout",
     "output_type": "stream",
     "text": [
      "Ward: Ward1\n",
      "Student - Name: studentA - YoB: 2010 - Grade: 7\n",
      "Teacher - Name: teacherA - YoB: 1969 - Subject: Math\n",
      "Doctor - Name: doctorA - YoB: 1945 - Specialist: Endocrinologists\n",
      "Teacher - Name: teacherB - YoB: 1995 - Subject: History\n",
      "Doctor - Name: doctorB - YoB: 1975 - Specialist: Cardiologists\n"
     ]
    }
   ],
   "source": [
    "teacher2 = Teacher(\"teacherB\", 1995, \"History\")\n",
    "doctor2 = Doctor(\"doctorB\", 1975, \"Cardiologists\")\n",
    "\n",
    "ward1 = Ward(\"Ward1\")\n",
    "\n",
    "ward1.add_person(student1)\n",
    "ward1.add_person(teacher1)\n",
    "ward1.add_person(doctor1)\n",
    "ward1.add_person(teacher2)\n",
    "ward1.add_person(doctor2)\n",
    "\n",
    "ward1.describe()"
   ]
  },
  {
   "cell_type": "markdown",
   "metadata": {},
   "source": [
    "2c"
   ]
  },
  {
   "cell_type": "code",
   "execution_count": 25,
   "metadata": {},
   "outputs": [
    {
     "name": "stdout",
     "output_type": "stream",
     "text": [
      "Number of doctor(s): 2\n"
     ]
    }
   ],
   "source": [
    "print(f\"Number of doctor(s): {ward1.count_doctor()}\")"
   ]
  },
  {
   "cell_type": "markdown",
   "metadata": {},
   "source": [
    "2d"
   ]
  },
  {
   "cell_type": "code",
   "execution_count": 26,
   "metadata": {},
   "outputs": [
    {
     "name": "stdout",
     "output_type": "stream",
     "text": [
      "After sorting Age of Ward1 people\n",
      "Ward: Ward1\n",
      "Student - Name: studentA - YoB: 2010 - Grade: 7\n",
      "Teacher - Name: teacherB - YoB: 1995 - Subject: History\n",
      "Doctor - Name: doctorB - YoB: 1975 - Specialist: Cardiologists\n",
      "Teacher - Name: teacherA - YoB: 1969 - Subject: Math\n",
      "Doctor - Name: doctorA - YoB: 1945 - Specialist: Endocrinologists\n"
     ]
    }
   ],
   "source": [
    "print (\"After sorting Age of Ward1 people\")\n",
    "ward1.sort_age()\n",
    "ward1.describe()"
   ]
  },
  {
   "cell_type": "markdown",
   "metadata": {},
   "source": [
    "2e"
   ]
  },
  {
   "cell_type": "code",
   "execution_count": 27,
   "metadata": {},
   "outputs": [
    {
     "name": "stdout",
     "output_type": "stream",
     "text": [
      "Average year of birth (teachers): 1982.0\n"
     ]
    }
   ],
   "source": [
    "print (f\"Average year of birth (teachers): {ward1.compute_average()}\")"
   ]
  }
 ],
 "metadata": {
  "kernelspec": {
   "display_name": "base",
   "language": "python",
   "name": "python3"
  },
  "language_info": {
   "codemirror_mode": {
    "name": "ipython",
    "version": 3
   },
   "file_extension": ".py",
   "mimetype": "text/x-python",
   "name": "python",
   "nbconvert_exporter": "python",
   "pygments_lexer": "ipython3",
   "version": "3.12.2"
  }
 },
 "nbformat": 4,
 "nbformat_minor": 2
}
