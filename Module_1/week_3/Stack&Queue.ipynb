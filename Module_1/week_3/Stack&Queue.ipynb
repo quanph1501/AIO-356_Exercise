{
 "cells": [
  {
   "cell_type": "code",
   "execution_count": 16,
   "metadata": {},
   "outputs": [],
   "source": [
    "class Stack:\n",
    "    def __init__(self, capacity):\n",
    "        self.capacity = capacity\n",
    "        self.data = []\n",
    "    def push(self, item):\n",
    "        self.data.append(item)\n",
    "    def pop(self):\n",
    "        return self.data.pop(-1)\n",
    "    def top(self):\n",
    "        return self.data[-1]\n",
    "    def is_empty(self):\n",
    "        return len(self.data) == 0\n",
    "    def is_full(self):\n",
    "        return len(self.data) == self.capacity"
   ]
  },
  {
   "cell_type": "code",
   "execution_count": 14,
   "metadata": {},
   "outputs": [],
   "source": [
    "class Queue:\n",
    "    def __init__(self, capacity):\n",
    "        self.data = []\n",
    "        self.capacity = capacity\n",
    "    def enqueue(self, item):\n",
    "        self.data.append(item)\n",
    "    def dequeue(self):\n",
    "        return self.data.pop(0)\n",
    "    def front(self):\n",
    "        return self.data[0]\n",
    "    def is_empty(self):\n",
    "        return len(self.data) == 0\n",
    "    def is_full(self):\n",
    "        return len(self.data) == self.capacity"
   ]
  },
  {
   "cell_type": "code",
   "execution_count": 17,
   "metadata": {},
   "outputs": [
    {
     "name": "stdout",
     "output_type": "stream",
     "text": [
      "False\n",
      "2\n",
      "2\n",
      "1\n",
      "1\n",
      "True\n"
     ]
    }
   ],
   "source": [
    "stack1 = Stack(5)\n",
    "stack1.push(1)\n",
    "stack1.push(2)\n",
    "print(stack1.is_full())\n",
    "print(stack1.top())\n",
    "print(stack1.pop())\n",
    "print(stack1.top())\n",
    "print(stack1.pop())\n",
    "print(stack1.is_empty())"
   ]
  },
  {
   "cell_type": "code",
   "execution_count": 18,
   "metadata": {},
   "outputs": [
    {
     "name": "stdout",
     "output_type": "stream",
     "text": [
      "False\n",
      "1\n",
      "1\n",
      "2\n",
      "2\n",
      "True\n"
     ]
    }
   ],
   "source": [
    "queue1 = Queue(5)\n",
    "queue1.enqueue(1)\n",
    "queue1.enqueue(2)\n",
    "print(queue1.is_full())\n",
    "print(queue1.front())\n",
    "print(queue1.dequeue())\n",
    "print(queue1.front())\n",
    "print(queue1.dequeue())\n",
    "print(queue1.is_empty())"
   ]
  }
 ],
 "metadata": {
  "kernelspec": {
   "display_name": "base",
   "language": "python",
   "name": "python3"
  },
  "language_info": {
   "codemirror_mode": {
    "name": "ipython",
    "version": 3
   },
   "file_extension": ".py",
   "mimetype": "text/x-python",
   "name": "python",
   "nbconvert_exporter": "python",
   "pygments_lexer": "ipython3",
   "version": "3.12.2"
  }
 },
 "nbformat": 4,
 "nbformat_minor": 2
}
