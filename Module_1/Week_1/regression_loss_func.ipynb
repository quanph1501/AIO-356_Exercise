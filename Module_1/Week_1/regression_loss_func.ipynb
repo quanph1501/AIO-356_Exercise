{
 "cells": [
  {
   "cell_type": "code",
   "execution_count": 15,
   "metadata": {},
   "outputs": [
    {
     "name": "stdout",
     "output_type": "stream",
     "text": [
      "loss name: RMSE, sample 0, pred: 0.9485874785983184, target 7.9070996148395505, loss 48.42089115021652\n",
      "loss name: RMSE, sample 1, pred: 0.09809864124477263, target 5.119553992464979, loss 25.215013844298046\n",
      "loss name: RMSE, sample 2, pred: 6.322071708469283, target 7.115092515715039, loss 0.6288820007247117\n",
      "loss name: RMSE, sample 3, pred: 8.339746832242128, target 7.838381502619311, loss 0.2513671937477958\n",
      "loss name: RMSE, sample 4, pred: 8.030856174214936, target 8.29648645097171, loss 0.07055944392988021\n",
      "final RMSE: 3.8622975968435407\n"
     ]
    }
   ],
   "source": [
    "import random\n",
    "import math\n",
    "def MAE(n):\n",
    "    result = 0\n",
    "    for i in range(0, n):\n",
    "        pred = random.uniform(0,10)\n",
    "        target = random.uniform(0,10)\n",
    "        loss = math.fabs(pred-target)\n",
    "        result += loss\n",
    "        print(f'loss name: MAE, sample {i}, pred: {pred}, target {target}, loss {loss}')\n",
    "    return print(f'final MAE: {result/n}')\n",
    "def MSE(n):\n",
    "    result = 0\n",
    "    for i in range(0, n):\n",
    "        pred = random.uniform(0,10)\n",
    "        target = random.uniform(0,10)\n",
    "        loss = (pred-target)**2\n",
    "        result += loss\n",
    "        print(f'loss name: MSE, sample {i}, pred: {pred}, target {target}, loss {loss}')\n",
    "    return print(f'final MSE: {result/n}')\n",
    "def RMSE(n):\n",
    "    result = 0\n",
    "    for i in range(0, n):\n",
    "        pred = random.uniform(0,10)\n",
    "        target = random.uniform(0,10)\n",
    "        loss = (pred-target)**2\n",
    "        result += loss\n",
    "        print(f'loss name: RMSE, sample {i}, pred: {pred}, target {target}, loss {loss}')\n",
    "    return print(f'final RMSE: {math.sqrt(result/n)}')\n",
    "\n",
    "def regression_loss():\n",
    "    '''Calculate regression loss with user's input number of samples (num_samples)'''\n",
    "    # Check valid\n",
    "    num_samples = input('Input number of samples (integer number) which are generated : ')\n",
    "    if (num_samples.isnumeric() == False):\n",
    "        return print('number of samples must be an integer number')\n",
    "    num_samples = int(num_samples)\n",
    "\n",
    "    # Take name loss and calculate\n",
    "    loss_name = input('Input loss name: ')\n",
    "    if (loss_name == 'MAE'):\n",
    "        MAE(num_samples)\n",
    "    if (loss_name == 'MSE'):\n",
    "        MSE(num_samples)\n",
    "    if (loss_name == 'RMSE'):\n",
    "        RMSE(num_samples)\n",
    "regression_loss()"
   ]
  }
 ],
 "metadata": {
  "kernelspec": {
   "display_name": "base",
   "language": "python",
   "name": "python3"
  },
  "language_info": {
   "codemirror_mode": {
    "name": "ipython",
    "version": 3
   },
   "file_extension": ".py",
   "mimetype": "text/x-python",
   "name": "python",
   "nbconvert_exporter": "python",
   "pygments_lexer": "ipython3",
   "version": "3.12.2"
  }
 },
 "nbformat": 4,
 "nbformat_minor": 2
}
