{
 "cells": [
  {
   "cell_type": "code",
   "execution_count": 4,
   "metadata": {},
   "outputs": [],
   "source": [
    "def factorial(n):\n",
    "    '''Calculate the factorial of number n'''\n",
    "    if (n==0) or (n==1):\n",
    "        return 1\n",
    "    res = 1\n",
    "    for i in range(2, n+1):\n",
    "        res *= i\n",
    "    return res"
   ]
  },
  {
   "cell_type": "code",
   "execution_count": 5,
   "metadata": {},
   "outputs": [
    {
     "data": {
      "text/plain": [
       "0.0015926529267151343"
      ]
     },
     "execution_count": 5,
     "metadata": {},
     "output_type": "execute_result"
    }
   ],
   "source": [
    "def approx_sin(x, n):\n",
    "    '''\n",
    "    Calculate approximation of sine funcion\n",
    "    x - radian\n",
    "    n - int and larger than zero\n",
    "    '''\n",
    "    res = 0\n",
    "    for i in range (0, n+1):\n",
    "        res += ((-1)**(i))*((x**(2*i+1))/(factorial(2*i+1)))\n",
    "    return res\n",
    "approx_sin(3.14, 10)"
   ]
  },
  {
   "cell_type": "code",
   "execution_count": 7,
   "metadata": {},
   "outputs": [
    {
     "data": {
      "text/plain": [
       "-0.9999987316527259"
      ]
     },
     "execution_count": 7,
     "metadata": {},
     "output_type": "execute_result"
    }
   ],
   "source": [
    "def approx_cos(x, n):\n",
    "    '''\n",
    "    Calculate approximation of cosine funcion\n",
    "    x - radian\n",
    "    n - int and larger than zero\n",
    "    '''\n",
    "    res = 0\n",
    "    for i in range (0, n+1):\n",
    "        res += ((-1)**(i))*((x**(2*i))/(factorial(2*i)))\n",
    "    return res\n",
    "approx_cos(3.14, 10)"
   ]
  },
  {
   "cell_type": "code",
   "execution_count": 8,
   "metadata": {},
   "outputs": [
    {
     "data": {
      "text/plain": [
       "11.53029203039954"
      ]
     },
     "execution_count": 8,
     "metadata": {},
     "output_type": "execute_result"
    }
   ],
   "source": [
    "def approx_sinh(x, n):\n",
    "    '''\n",
    "    Calculate approximation of sine hyberpolic funcion\n",
    "    x - radian\n",
    "    n - int and larger than zero\n",
    "    '''\n",
    "    res = 0\n",
    "    for i in range (0, n+1):\n",
    "        res += (x**(2*i+1))/factorial(2*i+1)\n",
    "    return res\n",
    "approx_sinh(3.14, 10)"
   ]
  },
  {
   "cell_type": "code",
   "execution_count": 9,
   "metadata": {},
   "outputs": [
    {
     "data": {
      "text/plain": [
       "11.573574828234543"
      ]
     },
     "execution_count": 9,
     "metadata": {},
     "output_type": "execute_result"
    }
   ],
   "source": [
    "def approx_cosh(x, n):\n",
    "    '''\n",
    "    Calculate approximation of cosine hyberpolic funcion\n",
    "    x - radian\n",
    "    n - int and larger than zero\n",
    "    '''\n",
    "    res = 0\n",
    "    for i in range (0, n+1):\n",
    "        res += (x**(2*i))/factorial(2*i)\n",
    "    return res\n",
    "approx_cosh(3.14, 10)"
   ]
  }
 ],
 "metadata": {
  "kernelspec": {
   "display_name": "base",
   "language": "python",
   "name": "python3"
  },
  "language_info": {
   "codemirror_mode": {
    "name": "ipython",
    "version": 3
   },
   "file_extension": ".py",
   "mimetype": "text/x-python",
   "name": "python",
   "nbconvert_exporter": "python",
   "pygments_lexer": "ipython3",
   "version": "3.12.2"
  }
 },
 "nbformat": 4,
 "nbformat_minor": 2
}
