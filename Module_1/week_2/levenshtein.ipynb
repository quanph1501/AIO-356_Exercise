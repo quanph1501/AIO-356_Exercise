{
 "cells": [
  {
   "cell_type": "code",
   "execution_count": 1,
   "metadata": {},
   "outputs": [
    {
     "name": "stdout",
     "output_type": "stream",
     "text": [
      "[0, 1, 2, 3]\n",
      "[1, 0, 1, 2]\n",
      "[2, 1, 1, 1]\n",
      "1\n",
      "\n",
      "[0, 1, 2, 3, 4, 5, 6, 7]\n",
      "[1, 1, 2, 3, 4, 5, 6, 7]\n",
      "[2, 2, 1, 2, 3, 4, 5, 6]\n",
      "[3, 3, 2, 1, 2, 3, 4, 5]\n",
      "[4, 4, 3, 2, 1, 2, 3, 4]\n",
      "[5, 5, 4, 3, 2, 2, 3, 4]\n",
      "[6, 6, 5, 4, 3, 3, 2, 3]\n",
      "3\n",
      "\n",
      "[0, 1, 2, 3, 4, 5]\n",
      "[1, 0, 1, 2, 3, 4]\n",
      "[2, 1, 1, 2, 3, 3]\n",
      "[3, 2, 2, 1, 2, 3]\n",
      "[4, 3, 3, 2, 2, 3]\n",
      "3\n"
     ]
    }
   ],
   "source": [
    "def levenshtein_dist(source, target):\n",
    "    \"\"\"\n",
    "    Compute the Levenshtein distance between two strings.\n",
    "    \"\"\"\n",
    "    matrix = []\n",
    "    matrix.append([i for i in range(len(target)+1)])\n",
    "    matrix.extend([[i] for i in range(1, len(source)+1)])\n",
    "\n",
    "    for s in range(1, len(source)+1):\n",
    "        for t in range(1, len(target)+1):\n",
    "            del_cost = matrix[s-1][t] + 1\n",
    "            ins_cost = matrix[s][t-1] + 1\n",
    "            sub_cost = matrix[s-1][t-1] + (source[s-1] != target[t-1])\n",
    "            matrix[s].append(min(del_cost, ins_cost, sub_cost))\n",
    "    \n",
    "    for row in matrix:\n",
    "        print(row)\n",
    "    return matrix[-1][-1]\n",
    "\n",
    "print(levenshtein_dist('yu', 'you'), end='\\n\\n')\n",
    "print(levenshtein_dist('kitten', 'sitting'), end='\\n\\n')\n",
    "print(levenshtein_dist('hola', 'hello'))"
   ]
  }
 ],
 "metadata": {
  "kernelspec": {
   "display_name": "base",
   "language": "python",
   "name": "python3"
  },
  "language_info": {
   "codemirror_mode": {
    "name": "ipython",
    "version": 3
   },
   "file_extension": ".py",
   "mimetype": "text/x-python",
   "name": "python",
   "nbconvert_exporter": "python",
   "pygments_lexer": "ipython3",
   "version": "3.12.2"
  }
 },
 "nbformat": 4,
 "nbformat_minor": 2
}
