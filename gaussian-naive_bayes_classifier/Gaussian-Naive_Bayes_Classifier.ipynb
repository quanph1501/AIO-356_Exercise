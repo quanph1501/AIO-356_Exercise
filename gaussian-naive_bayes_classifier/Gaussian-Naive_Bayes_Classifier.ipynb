{
  "cells": [
    {
      "cell_type": "markdown",
      "metadata": {
        "id": "KMuBJr6mPzxy"
      },
      "source": [
        "#### Question 4"
      ]
    },
    {
      "cell_type": "code",
      "execution_count": 31,
      "metadata": {
        "colab": {
          "base_uri": "https://localhost:8080/"
        },
        "id": "PbQz62Hpeqyo",
        "outputId": "d55710f9-3d11-45c4-d397-a1bec488e56e"
      },
      "outputs": [
        {
          "output_type": "stream",
          "name": "stdout",
          "text": [
            "P(“Play Tennis” = No) 0.0\n",
            "P(“Play Tennis” = Yes) 0.0\n"
          ]
        }
      ],
      "source": [
        "def compute_prior(train_data):\n",
        "  y_unique = ['no', 'yes']\n",
        "  prior_probability = np.zeros(len(y_unique))\n",
        "  for i in range(0, len(y_unique)):\n",
        "    prior_probability[i] = len(np.where(train_data[:,4] == y_unique[i])[0])/len(train_data)\n",
        "  return prior_probability\n",
        "\n",
        "prior = compute_prior(train_data)\n",
        "print(\"P(“Play Tennis” = No)\", prior[0])\n",
        "print(\"P(“Play Tennis” = Yes)\", prior[1])"
      ]
    },
    {
      "cell_type": "code",
      "execution_count": 32,
      "metadata": {
        "colab": {
          "base_uri": "https://localhost:8080/"
        },
        "id": "nKfjofuKGEd_",
        "outputId": "4934e886-b2a3-4509-96cb-e31726c47ebb"
      },
      "outputs": [
        {
          "output_type": "stream",
          "name": "stdout",
          "text": [
            "[['Sunny' 'Hot' 'High' 'Weak' 'no']\n",
            " ['Sunny' 'Hot' 'High' 'Strong' 'no']\n",
            " ['Overcast' 'Hot' 'High' 'Weak' 'yes']\n",
            " ['Rain' 'Mild' 'High' 'Weak' 'yes']\n",
            " ['Rain' 'Cool' 'Normal' 'Weak' 'yes']\n",
            " ['Rain' 'Cool' 'Normal' 'Strong' 'no']\n",
            " ['Overcast' 'Cool' 'Normal' 'Strong' 'yes']\n",
            " ['Overcast' 'Mild' 'High' 'Weak' 'no']\n",
            " ['Sunny' 'Cool' 'Normal' 'Weak' 'yes']\n",
            " ['Rain' 'Mild' 'Normal' 'Weak' 'yes']]\n"
          ]
        }
      ],
      "source": [
        "import numpy as np\n",
        "\n",
        "def create_train_data():\n",
        "  data=[['Sunny','Hot', 'High', 'Weak', 'no'],\n",
        "        ['Sunny','Hot', 'High', 'Strong', 'no'],\n",
        "        ['Overcast','Hot', 'High', 'Weak', 'yes'],\n",
        "        ['Rain','Mild', 'High', 'Weak', 'yes'],\n",
        "        ['Rain','Cool', 'Normal', 'Weak', 'yes'],\n",
        "        ['Rain','Cool', 'Normal', 'Strong', 'no'],\n",
        "        ['Overcast','Cool', 'Normal', 'Strong', 'yes'],\n",
        "        ['Overcast','Mild', 'High', 'Weak', 'no'],\n",
        "        ['Sunny','Cool', 'Normal', 'Weak', 'yes'],\n",
        "        ['Rain','Mild', 'Normal', 'Weak', 'yes']]\n",
        "\n",
        "  return np.array(data)\n",
        "\n",
        "train_data = create_train_data()\n",
        "print(train_data)"
      ]
    },
    {
      "cell_type": "code",
      "execution_count": 33,
      "metadata": {
        "id": "bTHLkURghmta"
      },
      "outputs": [],
      "source": [
        "def compute_condition_prob(train_data):\n",
        "  \"\"\"\n",
        "  this function computes the conditional probabilities\n",
        "  input: train data\n",
        "  output: conditional probabilities and list of feature names\n",
        "  \"\"\"\n",
        "  y_unique = ['no', 'yes']\n",
        "  condition_prob = []\n",
        "  list_x_name = []\n",
        "  for i in range(0, train_data.shape[1] - 1):\n",
        "    x_unique = np.unique(train_data[:,i])\n",
        "    print(\"x_unique\", x_unique)\n",
        "\n",
        "    list_x_name.append(x_unique)\n",
        "\n",
        "    x_condition_prob = np.zeros((len(y_unique), len(x_unique)))\n",
        "    for j in range(0,len(y_unique)):\n",
        "      for k in range(0,len(x_unique)):\n",
        "        x_condition_prob[j,k]= len(np.where((train_data[:,i] == x_unique[k]) & (train_data[:,4] == y_unique[j]))[0])/len(np.where(train_data[:,4] == y_unique[j])[0])\n",
        "\n",
        "    condition_prob.append(x_condition_prob)\n",
        "  return condition_prob, list_x_name"
      ]
    },
    {
      "cell_type": "code",
      "execution_count": 34,
      "metadata": {
        "colab": {
          "base_uri": "https://localhost:8080/"
        },
        "id": "ta9GKNvwvgQN",
        "outputId": "65918670-7da0-4824-86a7-7ebc3bd7a127"
      },
      "outputs": [
        {
          "output_type": "stream",
          "name": "stdout",
          "text": [
            "x_unique ['Overcast' 'Rain' 'Sunny']\n",
            "x_unique ['Cool' 'Hot' 'Mild']\n",
            "x_unique ['High' 'Normal']\n",
            "x_unique ['Strong' 'Weak']\n",
            "x1 =  ['Overcast' 'Rain' 'Sunny']\n",
            "x2 =  ['Cool' 'Hot' 'Mild']\n",
            "x3 =  ['High' 'Normal']\n",
            "x4 =  ['Strong' 'Weak']\n"
          ]
        }
      ],
      "source": [
        "#4.3.1\n",
        "train_data = create_train_data()\n",
        "_, list_x_name  = compute_condition_prob(train_data)\n",
        "print(\"x1 = \",list_x_name[0])\n",
        "print(\"x2 = \",list_x_name[1])\n",
        "print(\"x3 = \",list_x_name[2])\n",
        "print(\"x4 = \",list_x_name[3])"
      ]
    },
    {
      "cell_type": "code",
      "execution_count": 35,
      "metadata": {
        "id": "rSCrc4tDGXzJ",
        "colab": {
          "base_uri": "https://localhost:8080/"
        },
        "outputId": "8cca6af1-18e8-4dfa-c504-bf002b856546"
      },
      "outputs": [
        {
          "output_type": "stream",
          "name": "stdout",
          "text": [
            "x_unique ['Overcast' 'Rain' 'Sunny']\n",
            "x_unique ['Cool' 'Hot' 'Mild']\n",
            "x_unique ['High' 'Normal']\n",
            "x_unique ['Strong' 'Weak']\n"
          ]
        }
      ],
      "source": [
        "def train_naive_bayes(train_data):\n",
        "    # Step 1: Calculate Prior Probability\n",
        "    prior = compute_prior(train_data)\n",
        "\n",
        "    # Step 2: Calculate Conditional Probability\n",
        "    condition_prob, list_x_name  = compute_condition_prob(train_data)\n",
        "\n",
        "    return prior,condition_prob, list_x_name\n",
        "\n",
        "data = create_train_data()\n",
        "prior,condition_prob, list_x_name = train_naive_bayes(data)"
      ]
    },
    {
      "cell_type": "markdown",
      "source": [],
      "metadata": {
        "id": "PJ31jSUiv9x_"
      }
    },
    {
      "cell_type": "code",
      "execution_count": 36,
      "metadata": {
        "id": "wN9iw4pqVIsq"
      },
      "outputs": [],
      "source": [
        "def get_index_from_value(feature_name, list_features):\n",
        "  return np.where(list_features == feature_name)[0][0]"
      ]
    },
    {
      "cell_type": "code",
      "execution_count": 37,
      "metadata": {
        "colab": {
          "base_uri": "https://localhost:8080/"
        },
        "id": "Isb9zeBuy0BA",
        "outputId": "8d6b599d-8f2c-428a-a3da-4eb1cbe28276"
      },
      "outputs": [
        {
          "output_type": "stream",
          "name": "stdout",
          "text": [
            "x_unique ['Overcast' 'Rain' 'Sunny']\n",
            "x_unique ['Cool' 'Hot' 'Mild']\n",
            "x_unique ['High' 'Normal']\n",
            "x_unique ['Strong' 'Weak']\n",
            "0 1 2\n"
          ]
        }
      ],
      "source": [
        "#Question: 4.4.1\n",
        "train_data = create_train_data()\n",
        "_, list_x_name  = compute_condition_prob(train_data)\n",
        "outlook = list_x_name[0]\n",
        "i1 = get_index_from_value(\"Overcast\", outlook)\n",
        "i2 = get_index_from_value(\"Rain\", outlook)\n",
        "i3 = get_index_from_value(\"Sunny\", outlook)\n",
        "\n",
        "print(i1, i2, i3)"
      ]
    },
    {
      "cell_type": "code",
      "execution_count": 38,
      "metadata": {
        "colab": {
          "base_uri": "https://localhost:8080/"
        },
        "id": "aNN01_wI2iRx",
        "outputId": "90c42b6b-e187-4f3d-e085-19dea23aae94"
      },
      "outputs": [
        {
          "output_type": "stream",
          "name": "stdout",
          "text": [
            "x_unique ['Overcast' 'Rain' 'Sunny']\n",
            "x_unique ['Cool' 'Hot' 'Mild']\n",
            "x_unique ['High' 'Normal']\n",
            "x_unique ['Strong' 'Weak']\n",
            "P('Outlook'='Sunny'|Play Tennis'='Yes') =  0.17\n"
          ]
        }
      ],
      "source": [
        "#Question: 4.4.2\n",
        "train_data = create_train_data()\n",
        "condition_prob, list_x_name  = compute_condition_prob(train_data)\n",
        "# Compute P(\"Outlook\"=\"Sunny\"|Play Tennis\"=\"Yes\")\n",
        "x1=get_index_from_value(\"Sunny\",list_x_name[0])\n",
        "print(\"P('Outlook'='Sunny'|Play Tennis'='Yes') = \", np.round(condition_prob[0][1, x1],2))"
      ]
    },
    {
      "cell_type": "code",
      "execution_count": 39,
      "metadata": {
        "colab": {
          "base_uri": "https://localhost:8080/"
        },
        "id": "AY7fl5en4yVh",
        "outputId": "8d710585-685e-42ef-d653-83f1fe656f51"
      },
      "outputs": [
        {
          "output_type": "stream",
          "name": "stdout",
          "text": [
            "x_unique ['Overcast' 'Rain' 'Sunny']\n",
            "x_unique ['Cool' 'Hot' 'Mild']\n",
            "x_unique ['High' 'Normal']\n",
            "x_unique ['Strong' 'Weak']\n",
            "P('Outlook'='Sunny'|Play Tennis'='No') =  0.5\n"
          ]
        }
      ],
      "source": [
        "#Question: 4.4.3\n",
        "train_data = create_train_data()\n",
        "condition_prob, list_x_name  = compute_condition_prob(train_data)\n",
        "# Compute P(\"Outlook\"=\"Sunny\"|Play Tennis\"=\"No\")\n",
        "x1=get_index_from_value(\"Sunny\",list_x_name[0])\n",
        "print(\"P('Outlook'='Sunny'|Play Tennis'='No') = \", np.round(condition_prob[0][0, x1],2))"
      ]
    },
    {
      "cell_type": "code",
      "execution_count": 40,
      "metadata": {
        "id": "c7JWfZxGQX49"
      },
      "outputs": [],
      "source": [
        "def prediction_play_tennis(X, list_x_name, prior, condition_prob):\n",
        "\n",
        "    x1=get_index_from_value(X[0], list_x_name[0])\n",
        "    x2=get_index_from_value(X[1], list_x_name[1])\n",
        "    x3=get_index_from_value(X[2], list_x_name[2])\n",
        "    x4=get_index_from_value(X[3], list_x_name[3])\n",
        "\n",
        "    p0=prior[0] \\\n",
        "    *condition_prob[0][0, x1] \\\n",
        "    *condition_prob[1][0, x2] \\\n",
        "    *condition_prob[2][0, x3] \\\n",
        "    *condition_prob[3][0, x4]\n",
        "\n",
        "    p1=prior[1]\\\n",
        "    *condition_prob[0][1, x1]\\\n",
        "    *condition_prob[1][1, x2]\\\n",
        "    *condition_prob[2][1, x3]\\\n",
        "    *condition_prob[3][1, x4]\n",
        "\n",
        "    if p0 > p1:\n",
        "        y_pred=0\n",
        "    else:\n",
        "        y_pred=1\n",
        "\n",
        "    return y_pred"
      ]
    },
    {
      "cell_type": "code",
      "execution_count": 41,
      "metadata": {
        "colab": {
          "base_uri": "https://localhost:8080/"
        },
        "id": "L_9Il6Q_8Q4a",
        "outputId": "79d1991e-21c0-4ef9-d967-9da6cd78959d"
      },
      "outputs": [
        {
          "output_type": "stream",
          "name": "stdout",
          "text": [
            "x_unique ['Overcast' 'Rain' 'Sunny']\n",
            "x_unique ['Cool' 'Hot' 'Mild']\n",
            "x_unique ['High' 'Normal']\n",
            "x_unique ['Strong' 'Weak']\n",
            "Ad should not go!\n"
          ]
        }
      ],
      "source": [
        "#4.6.1\n",
        "X = ['Sunny','Cool', 'High', 'Strong']\n",
        "data = create_train_data()\n",
        "prior, condition_prob, list_x_name = train_naive_bayes(data)\n",
        "pred =  prediction_play_tennis(X, list_x_name, prior, condition_prob)\n",
        "\n",
        "if(pred):\n",
        "  print(\"Ad should go!\")\n",
        "else:\n",
        "  print(\"Ad should not go!\")"
      ]
    },
    {
      "cell_type": "markdown",
      "metadata": {
        "id": "AMFOzPlFP98Q"
      },
      "source": [
        "#### Question 5\n"
      ]
    },
    {
      "cell_type": "markdown",
      "metadata": {
        "id": "P-heDlSwRFZI"
      },
      "source": [
        "### Irises Classifier"
      ]
    },
    {
      "cell_type": "code",
      "execution_count": 42,
      "metadata": {
        "id": "xbBBnutMRKeY"
      },
      "outputs": [],
      "source": [
        "from sklearn import datasets\n",
        "import numpy as np\n",
        "\n",
        "def create_train_data_iris():\n",
        "  data = np.loadtxt(\"iris.data.txt\", delimiter=\",\", dtype=str)\n",
        "  return data"
      ]
    },
    {
      "cell_type": "code",
      "execution_count": 43,
      "metadata": {
        "id": "hBnfKKK5V_jG"
      },
      "outputs": [],
      "source": [
        "def compute_prior_iris(train_data):\n",
        "  y_unique = np.unique(train_data[:,4])\n",
        "  prior = np.zeros(len(y_unique))\n",
        "  for i in range(0,len(y_unique)):\n",
        "    prior[i]=len(np.where(train_data[:,4] == y_unique[i])[0])/len(train_data)\n",
        "  return prior"
      ]
    },
    {
      "cell_type": "code",
      "execution_count": 44,
      "metadata": {
        "id": "kOUWrtFkb4SM"
      },
      "outputs": [],
      "source": [
        "def compute_condition_prob_iris(train_data):\n",
        "  \"\"\"\n",
        "  this function computes the conditional probabilities\n",
        "  input: train data\n",
        "  output: conditional probabilities and list of feature names\n",
        "  \"\"\"\n",
        "  y_unique = np.unique(train_data[:,4]) # 0 for Setosa, 1 for Versicolour, 2 for Virginica\n",
        "  x_feature = 4\n",
        "  condition_prob = []\n",
        "  list_x_name = []\n",
        "  for i in range(0,train_data.shape[1]-1):\n",
        "    x_condition_prob = np.zeros((len(y_unique), 2))\n",
        "    for j in range(0,len(y_unique)):\n",
        "        mean = np.mean((train_data[:,i][np.where(train_data[:,4] == y_unique[j])]).astype(float))\n",
        "        sigma =  np.std((train_data[:,i][np.where(train_data[:,4] == y_unique[j])]).astype(float))\n",
        "        sigma = sigma * sigma\n",
        "        x_condition_prob[j]= [mean, sigma]\n",
        "\n",
        "    condition_prob.append(x_condition_prob)\n",
        "  return condition_prob"
      ]
    },
    {
      "cell_type": "code",
      "execution_count": 45,
      "metadata": {
        "id": "DupWNod7gawe"
      },
      "outputs": [],
      "source": [
        "import math\n",
        "#Define the Gaussian function\n",
        "def gauss(x, mean, sigma):\n",
        "  result = (1.0 / (np.sqrt(2*math.pi*sigma))) \\\n",
        "  * (np.exp(-(float(x) - mean) ** 2 / (2 * sigma)))\n",
        "  return result"
      ]
    },
    {
      "cell_type": "code",
      "execution_count": 46,
      "metadata": {
        "id": "fZ_eKZNLUpdN"
      },
      "outputs": [],
      "source": [
        "def train_gaussian_naive_bayes(train_data):\n",
        "    # Step 1: Calculate Prior Probability\n",
        "    prior = compute_prior_iris(train_data)\n",
        "\n",
        "    # Step 2: Calculate Conditional Probability\n",
        "    condition_prob  = compute_condition_prob_iris(train_data)\n",
        "\n",
        "    return prior,condition_prob"
      ]
    },
    {
      "cell_type": "code",
      "execution_count": 47,
      "metadata": {
        "id": "LQuO13lscTPf"
      },
      "outputs": [],
      "source": [
        "def prediction_iris(X,  prior, condition_prob):\n",
        "\n",
        "    p0=prior[0] \\\n",
        "    *gauss(X[0], condition_prob[0][0][0],condition_prob[0][0][1])  \\\n",
        "    *gauss(X[1], condition_prob[1][0][0],condition_prob[1][0][1])  \\\n",
        "    *gauss(X[2], condition_prob[2][0][0],condition_prob[2][0][1])  \\\n",
        "    *gauss(X[3], condition_prob[3][0][0],condition_prob[3][0][1])\n",
        "\n",
        "    p1=prior[1] \\\n",
        "    *gauss(X[0], condition_prob[0][1][0],condition_prob[0][1][1])  \\\n",
        "    *gauss(X[1], condition_prob[1][1][0],condition_prob[1][1][1])  \\\n",
        "    *gauss(X[2], condition_prob[2][1][0],condition_prob[2][1][1])  \\\n",
        "    *gauss(X[3], condition_prob[3][1][0],condition_prob[3][1][1])\n",
        "\n",
        "    p2=prior[2] \\\n",
        "    *gauss(X[0], condition_prob[0][2][0],condition_prob[0][2][1])  \\\n",
        "    *gauss(X[1], condition_prob[1][2][0],condition_prob[1][2][1])  \\\n",
        "    *gauss(X[2], condition_prob[2][2][0],condition_prob[2][2][1])  \\\n",
        "    *gauss(X[3], condition_prob[3][2][0],condition_prob[3][2][1])\n",
        "\n",
        "    list_p = [p0, p1, p2]\n",
        "\n",
        "    return list_p.index(np.max(list_p))"
      ]
    },
    {
      "cell_type": "code",
      "execution_count": 48,
      "metadata": {
        "id": "89qE3MAlvnwf"
      },
      "outputs": [],
      "source": [
        "X = [6.3 , 3.3, 6.0,  2.5]\n",
        "train_data = create_train_data_iris()\n",
        "y_unique = np.unique(train_data[:,4])\n",
        "prior, condition_prob = train_gaussian_naive_bayes(train_data)\n",
        "pred = y_unique[prediction_iris(X, prior, condition_prob)]\n",
        "assert pred == \"Iris-virginica\""
      ]
    },
    {
      "cell_type": "code",
      "execution_count": 49,
      "metadata": {
        "id": "Qer_ecFSVWMz"
      },
      "outputs": [],
      "source": [
        "X = [5.0,2.0,3.5,1.0]\n",
        "train_data = create_train_data_iris()\n",
        "y_unique = np.unique(train_data[:,4])\n",
        "prior, condition_prob = train_gaussian_naive_bayes(train_data)\n",
        "pred = y_unique[prediction_iris(X, prior, condition_prob)]\n",
        "assert pred == \"Iris-versicolor\""
      ]
    },
    {
      "cell_type": "code",
      "execution_count": 50,
      "metadata": {
        "id": "QC4SJF1YVmeR"
      },
      "outputs": [],
      "source": [
        "X = [4.9,3.1,1.5,0.1]\n",
        "train_data = create_train_data_iris()\n",
        "y_unique = np.unique(train_data[:,4])\n",
        "prior, condition_prob = train_gaussian_naive_bayes(train_data)\n",
        "pred = y_unique[prediction_iris(X, prior, condition_prob)]\n",
        "assert pred == \"Iris-setosa\""
      ]
    }
  ],
  "metadata": {
    "colab": {
      "provenance": []
    },
    "kernelspec": {
      "display_name": "Python 3 (ipykernel)",
      "language": "python",
      "name": "python3"
    },
    "language_info": {
      "codemirror_mode": {
        "name": "ipython",
        "version": 3
      },
      "file_extension": ".py",
      "mimetype": "text/x-python",
      "name": "python",
      "nbconvert_exporter": "python",
      "pygments_lexer": "ipython3",
      "version": "3.11.4"
    }
  },
  "nbformat": 4,
  "nbformat_minor": 0
}