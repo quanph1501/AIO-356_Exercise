{
 "cells": [
  {
   "cell_type": "code",
   "execution_count": 16,
   "metadata": {},
   "outputs": [
    {
     "name": "stdout",
     "output_type": "stream",
     "text": [
      "{'H': 1, 'a': 1, 'p': 2, 'i': 1, 'n': 1, 'e': 1, 's': 2}\n",
      "{'s': 2, 'm': 1, 'i': 1, 'l': 1, 'e': 1}\n"
     ]
    }
   ],
   "source": [
    "def count_chars(str):\n",
    "    \"\"\"\n",
    "    Counts the occurrences of each character in a given string.\n",
    "    \n",
    "    Args:\n",
    "        str (str): The input string to count characters from.\n",
    "        \n",
    "    Returns:\n",
    "        dict: A dictionary where the keys are the characters in the string and the values are the counts of each character.\n",
    "    \"\"\"\n",
    "    list_chars = list(str)\n",
    "    list_chars = { char:list_chars.count(char) for char in list_chars }\n",
    "    return list_chars\n",
    "\n",
    "string = \"Happiness\"\n",
    "print(count_chars(string))\n",
    "\n",
    "string = \"smiles\"\n",
    "print(count_chars(string))"
   ]
  }
 ],
 "metadata": {
  "kernelspec": {
   "display_name": "base",
   "language": "python",
   "name": "python3"
  },
  "language_info": {
   "codemirror_mode": {
    "name": "ipython",
    "version": 3
   },
   "file_extension": ".py",
   "mimetype": "text/x-python",
   "name": "python",
   "nbconvert_exporter": "python",
   "pygments_lexer": "ipython3",
   "version": "3.12.2"
  }
 },
 "nbformat": 4,
 "nbformat_minor": 2
}
