{
 "cells": [
  {
   "cell_type": "code",
   "execution_count": 17,
   "metadata": {},
   "outputs": [
    {
     "data": {
      "text/plain": [
       "[5, 5, 5, 5, 10, 12, 33, 33]"
      ]
     },
     "execution_count": 17,
     "metadata": {},
     "output_type": "execute_result"
    }
   ],
   "source": [
    "def maxslidingwindow(data, k):\n",
    "    \"\"\"\n",
    "    Returns a list of maximum values in a sliding window of size k.\n",
    "\n",
    "    Parameters:\n",
    "    - data (list): The input list of integers.\n",
    "    - k (int): The size of the sliding window.\n",
    "\n",
    "    Returns:\n",
    "    - list: A list of maximum values in each sliding window.\n",
    "\n",
    "    Example:\n",
    "    >>> maxslidingwindow([1, 3, -1, -3, 5, 3, 6, 7], 3)\n",
    "    [3, 3, 5, 5, 6, 7]\n",
    "    \"\"\"\n",
    "    return [max(data[i:i+k]) for i in range(len(data)-k+1)]\n",
    "\n",
    "num_list = [3, 4, 5, 1, -44 , 5 ,10, 12 ,33, 1]\n",
    "k = 3\n",
    "maxslidingwindow(num_list, k)"
   ]
  }
 ],
 "metadata": {
  "kernelspec": {
   "display_name": "base",
   "language": "python",
   "name": "python3"
  },
  "language_info": {
   "codemirror_mode": {
    "name": "ipython",
    "version": 3
   },
   "file_extension": ".py",
   "mimetype": "text/x-python",
   "name": "python",
   "nbconvert_exporter": "python",
   "pygments_lexer": "ipython3",
   "version": "3.12.2"
  }
 },
 "nbformat": 4,
 "nbformat_minor": 2
}
