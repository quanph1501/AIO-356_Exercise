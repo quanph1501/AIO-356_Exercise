{
 "cells": [
  {
   "cell_type": "code",
   "execution_count": 21,
   "metadata": {},
   "outputs": [
    {
     "name": "stdout",
     "output_type": "stream",
     "text": [
      "1\n",
      "3\n"
     ]
    }
   ],
   "source": [
    "def levenshtein_distance(source, target):\n",
    "    \"\"\"\n",
    "    Calculate the Levenshtein distance between two strings (source and target).\n",
    "    \"\"\"\n",
    "    if len(source) < len(target):\n",
    "        return levenshtein_distance(target, source)\n",
    "\n",
    "    if len(target) == 0:\n",
    "        return len(source)\n",
    "\n",
    "    previous_row = range(len(target) + 1)\n",
    "    for i, c1 in enumerate(source):\n",
    "        current_row = [i + 1]\n",
    "        for j, c2 in enumerate(target):\n",
    "            insertions = previous_row[j + 1] + 1\n",
    "            deletions = current_row[j] + 1\n",
    "            substitutions = previous_row[j] + (c1 != c2)\n",
    "            current_row.append(min(insertions, deletions, substitutions))\n",
    "        previous_row = current_row\n",
    "\n",
    "    return previous_row[-1]\n",
    "\n",
    "print(levenshtein_distance(\"yu\", \"you\"))\n",
    "print (levenshtein_distance(\"kitten\", \"sitting\"))"
   ]
  }
 ],
 "metadata": {
  "kernelspec": {
   "display_name": "base",
   "language": "python",
   "name": "python3"
  },
  "language_info": {
   "codemirror_mode": {
    "name": "ipython",
    "version": 3
   },
   "file_extension": ".py",
   "mimetype": "text/x-python",
   "name": "python",
   "nbconvert_exporter": "python",
   "pygments_lexer": "ipython3",
   "version": "3.12.2"
  }
 },
 "nbformat": 4,
 "nbformat_minor": 2
}
