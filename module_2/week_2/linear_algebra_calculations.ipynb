{
  "cells": [
    {
      "cell_type": "code",
      "execution_count": 1,
      "metadata": {
        "id": "2St1Us_YoHYk"
      },
      "outputs": [],
      "source": [
        "import numpy as np\n",
        "def compute_vector_length(vector):\n",
        "  len_of_vector = np.linalg.norm(vector)\n",
        "  return len_of_vector"
      ]
    },
    {
      "cell_type": "code",
      "execution_count": 2,
      "metadata": {
        "colab": {
          "base_uri": "https://localhost:8080/"
        },
        "id": "thLSUFrOopew",
        "outputId": "4a7aa3c9-d1ea-4941-e348-386d22828f9d"
      },
      "outputs": [
        {
          "name": "stdout",
          "output_type": "stream",
          "text": [
            "23.28\n"
          ]
        }
      ],
      "source": [
        "vector = np.array([-2, 4, 9, 21])\n",
        "result = compute_vector_length([vector])\n",
        "print(round(result,2))"
      ]
    },
    {
      "cell_type": "code",
      "execution_count": 3,
      "metadata": {
        "id": "WYyzvmVRDsNV"
      },
      "outputs": [],
      "source": [
        "def compute_dot_product(v1, v2):\n",
        "  result = np.dot(v1, v2)\n",
        "  return result"
      ]
    },
    {
      "cell_type": "code",
      "execution_count": 4,
      "metadata": {
        "colab": {
          "base_uri": "https://localhost:8080/"
        },
        "id": "HqF_TKfnLQaN",
        "outputId": "83d6387b-e681-4108-8d4c-47aa2cee7e46"
      },
      "outputs": [
        {
          "name": "stdout",
          "output_type": "stream",
          "text": [
            "4\n"
          ]
        }
      ],
      "source": [
        "v1 = np.array([0, 1, -1, 2])\n",
        "v2 = np.array([2, 5, 1, 0])\n",
        "result = compute_dot_product(v1, v2)\n",
        "\n",
        "print(round(result,2))"
      ]
    },
    {
      "cell_type": "code",
      "execution_count": 5,
      "metadata": {
        "colab": {
          "base_uri": "https://localhost:8080/"
        },
        "id": "02n4c1ijMAtY",
        "outputId": "74d30630-fc85-41b5-cfd1-46b4d1989edf"
      },
      "outputs": [
        {
          "name": "stdout",
          "output_type": "stream",
          "text": [
            "result  \n",
            " [ 5 11]\n",
            "result 1 \n",
            " [ 5 11]\n"
          ]
        }
      ],
      "source": [
        "x = np.array([[1, 2],\n",
        "              [3, 4]])\n",
        "k = np.array([1, 2])\n",
        "print('result  \\n', compute_dot_product(x, k))\n",
        "print('result 1 \\n', x.dot(k))"
      ]
    },
    {
      "cell_type": "code",
      "execution_count": 6,
      "metadata": {
        "colab": {
          "base_uri": "https://localhost:8080/"
        },
        "id": "ASKnQuP_M5AO",
        "outputId": "9e905bf2-8475-49fd-d1b2-5f2158792430"
      },
      "outputs": [
        {
          "name": "stdout",
          "output_type": "stream",
          "text": [
            "result \n",
            " [ 3 -5]\n"
          ]
        }
      ],
      "source": [
        "x = np.array([[-1, 2],\n",
        "              [3, -4]])\n",
        "k = np.array([1, 2])\n",
        "print('result \\n', x@k)"
      ]
    },
    {
      "cell_type": "code",
      "execution_count": 7,
      "metadata": {
        "id": "rOpM0ImSOhfr"
      },
      "outputs": [],
      "source": [
        "def matrix_multi_vector(matrix, vector):\n",
        "  result = np.dot(matrix, vector)\n",
        "  return result"
      ]
    },
    {
      "cell_type": "code",
      "execution_count": 8,
      "metadata": {
        "colab": {
          "base_uri": "https://localhost:8080/"
        },
        "id": "kROHrZDCOoGN",
        "outputId": "d9133d39-84c5-438b-8a2e-0ebb93872b8b"
      },
      "outputs": [
        {
          "name": "stdout",
          "output_type": "stream",
          "text": [
            "[3 1]\n"
          ]
        }
      ],
      "source": [
        "m = np.array([[-1, 1, 1], [0, -4, 9]])\n",
        "v = np.array([0, 2, 1])\n",
        "result = matrix_multi_vector(m, v)\n",
        "print(result)"
      ]
    },
    {
      "cell_type": "code",
      "execution_count": 9,
      "metadata": {
        "id": "eovfz88GHHHu"
      },
      "outputs": [],
      "source": [
        "def matrix_multi_matrix(matrix1, matrix2):\n",
        "  result = np.dot(matrix1, matrix2)\n",
        "  return result"
      ]
    },
    {
      "cell_type": "code",
      "execution_count": 10,
      "metadata": {
        "colab": {
          "base_uri": "https://localhost:8080/"
        },
        "id": "Sf9ZSqiIJGEe",
        "outputId": "6b6a1ea6-a02a-4b5f-8e63-f3a97cb93b0c"
      },
      "outputs": [
        {
          "name": "stdout",
          "output_type": "stream",
          "text": [
            "[[  6  -1]\n",
            " [-16 -10]]\n"
          ]
        }
      ],
      "source": [
        "m1 = np.array([[0, 1, 2], [2, -3, 1]])\n",
        "m2 = np.array([[1, -3],[6, 1], [0, -1]])\n",
        "result = matrix_multi_matrix(m1, m2)\n",
        "print(result)"
      ]
    },
    {
      "cell_type": "code",
      "execution_count": 11,
      "metadata": {
        "colab": {
          "base_uri": "https://localhost:8080/"
        },
        "id": "oT_pNqoVOtFF",
        "outputId": "229d8cae-da8d-4a2c-a071-b751da88ff5b"
      },
      "outputs": [
        {
          "name": "stdout",
          "output_type": "stream",
          "text": [
            "[[1. 1. 1.]\n",
            " [2. 2. 2.]\n",
            " [3. 3. 3.]]\n"
          ]
        }
      ],
      "source": [
        "m1 = np.eye(3)\n",
        "m2 = np.array([[1, 1, 1],[2, 2, 2], [3, 3, 3]])\n",
        "result = m1@m2\n",
        "print(result)"
      ]
    },
    {
      "cell_type": "code",
      "execution_count": 12,
      "metadata": {
        "colab": {
          "base_uri": "https://localhost:8080/"
        },
        "id": "RbPzspKWQBqW",
        "outputId": "21ddaffe-3a37-4efc-e11b-085c7c3c7983"
      },
      "outputs": [
        {
          "name": "stdout",
          "output_type": "stream",
          "text": [
            "[5. 5. 5. 5.]\n"
          ]
        }
      ],
      "source": [
        "m1 = np.eye(2)\n",
        "m1 = np.reshape(m1,(-1,4))[0]\n",
        "m2 = np.array([[1, 1, 1, 1],[2, 2, 2, 2], [3, 3, 3, 3], [4, 4, 4, 4]])\n",
        "result = m1@m2\n",
        "print(result)"
      ]
    },
    {
      "cell_type": "code",
      "execution_count": 13,
      "metadata": {
        "colab": {
          "base_uri": "https://localhost:8080/"
        },
        "id": "OEnBR6orSO9r",
        "outputId": "e5aa10c3-49c9-4a79-c683-506adebd8cdf"
      },
      "outputs": [
        {
          "name": "stdout",
          "output_type": "stream",
          "text": [
            "[29 29 29 29]\n"
          ]
        }
      ],
      "source": [
        "m1 = np.array([[1, 2], [3, 4]])\n",
        "m1 = np.reshape(m1,(-1,4), \"F\")[0]\n",
        "m2 = np.array([[1, 1, 1, 1],[2, 2, 2, 2], [3, 3, 3, 3], [4, 4, 4, 4]])\n",
        "result = m1@m2\n",
        "print(result)"
      ]
    },
    {
      "cell_type": "code",
      "execution_count": 14,
      "metadata": {
        "id": "ak6XAhZFVOlY"
      },
      "outputs": [],
      "source": [
        "def inverse_matrix(matrix):\n",
        "  result = np.linalg.inv(matrix)\n",
        "  return result"
      ]
    },
    {
      "cell_type": "code",
      "execution_count": 15,
      "metadata": {
        "colab": {
          "base_uri": "https://localhost:8080/"
        },
        "id": "GeK71yaMVa-L",
        "outputId": "3377215e-f31a-49c9-8bc4-09b62bbeda78"
      },
      "outputs": [
        {
          "name": "stdout",
          "output_type": "stream",
          "text": [
            "[[0.1  0.15]\n",
            " [0.2  0.05]]\n"
          ]
        }
      ],
      "source": [
        "m1 = np.array([[-2, 6], [8, -4]])\n",
        "result = inverse_matrix(m1)\n",
        "print(result)"
      ]
    },
    {
      "cell_type": "code",
      "execution_count": 16,
      "metadata": {
        "id": "PhjSkuucZYCD"
      },
      "outputs": [],
      "source": [
        "def compute_eigenvalues_eigenvectors(matrix):\n",
        "  eigenvalues, eigenvectors = np.linalg.eig(matrix)\n",
        "  return eigenvalues,eigenvectors"
      ]
    },
    {
      "cell_type": "code",
      "execution_count": 17,
      "metadata": {
        "colab": {
          "base_uri": "https://localhost:8080/"
        },
        "id": "3XmCQWg4YuF9",
        "outputId": "625529fa-7d11-4e51-a76e-9a70e1d837ff"
      },
      "outputs": [
        {
          "name": "stdout",
          "output_type": "stream",
          "text": [
            "[[ 0.89442719 -0.70710678]\n",
            " [ 0.4472136   0.70710678]]\n"
          ]
        }
      ],
      "source": [
        "matrix = np.array([[0.9, 0.2], [0.1, 0.8]])\n",
        "eigenvalues, eigenvectors = compute_eigenvalues_eigenvectors(matrix)\n",
        "print(eigenvectors)"
      ]
    },
    {
      "cell_type": "code",
      "execution_count": 18,
      "metadata": {
        "id": "CPBVzmaxbtD1"
      },
      "outputs": [],
      "source": [
        "import numpy as np\n",
        "from numpy import dot\n",
        "from numpy.linalg import norm\n",
        "\n",
        "def compute_cosine(v1, v2):\n",
        "  cos_sim = compute_dot_product(v1,v2) / (compute_vector_length(v1)*compute_vector_length(v2))\n",
        "\n",
        "  return cos_sim"
      ]
    },
    {
      "cell_type": "code",
      "execution_count": 19,
      "metadata": {
        "colab": {
          "base_uri": "https://localhost:8080/"
        },
        "id": "kGxGFGPvcHBc",
        "outputId": "7951b3b8-706b-48f5-9eb6-70d513e1e063"
      },
      "outputs": [
        {
          "name": "stdout",
          "output_type": "stream",
          "text": [
            "0.577\n"
          ]
        }
      ],
      "source": [
        "x = np.array([1, 2, 3, 4])\n",
        "y = np.array([1, 0, 3, 0])\n",
        "result = compute_cosine(x,y)\n",
        "print(round(result, 3))"
      ]
    }
  ],
  "metadata": {
    "colab": {
      "provenance": []
    },
    "kernelspec": {
      "display_name": "Python 3",
      "name": "python3"
    },
    "language_info": {
      "codemirror_mode": {
        "name": "ipython",
        "version": 3
      },
      "file_extension": ".py",
      "mimetype": "text/x-python",
      "name": "python",
      "nbconvert_exporter": "python",
      "pygments_lexer": "ipython3",
      "version": "3.12.2"
    }
  },
  "nbformat": 4,
  "nbformat_minor": 0
}
