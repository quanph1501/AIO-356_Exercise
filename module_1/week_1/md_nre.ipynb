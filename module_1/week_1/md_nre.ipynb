{
 "cells": [
  {
   "cell_type": "code",
   "execution_count": 2,
   "metadata": {},
   "outputs": [
    {
     "name": "stdout",
     "output_type": "stream",
     "text": [
      "0.025031328369998107\n",
      "0.03544417213033135\n",
      "0.05625552183565574\n",
      "0.45836890322464546\n"
     ]
    }
   ],
   "source": [
    "def md_nre_single_sample(y, y_hat, n, p):\n",
    "    result = (y**(1/n) - y_hat**(1/n))**p\n",
    "    return print(result)\n",
    "md_nre_single_sample(100, 99.5, 2, 1)\n",
    "md_nre_single_sample(50, 49.5, 2, 1)\n",
    "md_nre_single_sample(20, 19.5, 2, 1)\n",
    "md_nre_single_sample(0.6, 0.1, 2, 1)"
   ]
  }
 ],
 "metadata": {
  "kernelspec": {
   "display_name": "base",
   "language": "python",
   "name": "python3"
  },
  "language_info": {
   "codemirror_mode": {
    "name": "ipython",
    "version": 3
   },
   "file_extension": ".py",
   "mimetype": "text/x-python",
   "name": "python",
   "nbconvert_exporter": "python",
   "pygments_lexer": "ipython3",
   "version": "3.12.2"
  }
 },
 "nbformat": 4,
 "nbformat_minor": 2
}
