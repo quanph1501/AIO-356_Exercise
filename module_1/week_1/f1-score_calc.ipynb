{
 "cells": [
  {
   "cell_type": "code",
   "execution_count": 1,
   "metadata": {},
   "outputs": [
    {
     "name": "stdout",
     "output_type": "stream",
     "text": [
      "precision is 0.4\n",
      "recall is 0.3333333333333333\n",
      "f1-score is 0.3636363636363636\n"
     ]
    }
   ],
   "source": [
    "import math\n",
    "def f1_score_calc(tp, fp, fn):\n",
    "    \"\"\"\n",
    "    This function calculates F1 score given true positives (tp), false positives (fp), and false negatives (fn).\n",
    "\n",
    "    Args:\n",
    "        tp (int): Number of true positives.\n",
    "        fp (int): Number of false positives.\n",
    "        fn (int): Number of false negatives.\n",
    "\n",
    "    Returns:\n",
    "        str: A string containing the precision, recall, and F1 score calculation.\n",
    "            If there are errors in the input data types or values, it returns an error message.\n",
    "    \"\"\"\n",
    "    # check input must be int\n",
    "    error_message = ''\n",
    "    if (type(tp) != int):\n",
    "        error_message += 'tp' \n",
    "    if (type(fp) != int):\n",
    "        error_message += ' and fp' if (error_message != '') else 'fp'\n",
    "    if (type(fn) != int):\n",
    "        error_message += ' and fn' if (error_message != '') else 'fn'\n",
    "    if (error_message != ''):\n",
    "        error_message += ' must be int'\n",
    "        return print(error_message)\n",
    "    \n",
    "    # check input must be greater than zero\n",
    "    if (tp <= 0):\n",
    "        error_message += 'tp' \n",
    "    if (fp <= 0):\n",
    "        error_message += ' and fp' if (error_message != '') else 'fp'\n",
    "    if (fn <= 0):\n",
    "        error_message += ' and fn' if (error_message != '') else 'fn'\n",
    "    if (error_message != ''):\n",
    "        error_message += ' must be greater than zero'\n",
    "        return print(error_message)\n",
    "    \n",
    "    # f1-score calculation\n",
    "    precision = tp/(tp+fp)\n",
    "    recall = tp/(tp+fn)\n",
    "    f1_score = 2*((precision*recall)/(precision+recall))\n",
    "    result = f'precision is {precision}\\nrecall is {recall}\\nf1-score is {f1_score}'\n",
    "    return print(result)\n",
    "\n",
    "f1_score_calc(2, 3, 4)"
   ]
  }
 ],
 "metadata": {
  "kernelspec": {
   "display_name": "base",
   "language": "python",
   "name": "python3"
  },
  "language_info": {
   "codemirror_mode": {
    "name": "ipython",
    "version": 3
   },
   "file_extension": ".py",
   "mimetype": "text/x-python",
   "name": "python",
   "nbconvert_exporter": "python",
   "pygments_lexer": "ipython3",
   "version": "3.12.2"
  }
 },
 "nbformat": 4,
 "nbformat_minor": 2
}
