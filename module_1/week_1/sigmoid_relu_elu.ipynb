{
 "cells": [
  {
   "cell_type": "code",
   "execution_count": null,
   "metadata": {},
   "outputs": [],
   "source": [
    "def is_number(n) :\n",
    "    try:\n",
    "        float(n) # Type - casting the string to ‘float ‘.\n",
    "             # If string is not a valid ‘float ‘ ,\n",
    "             # it ’ll raise ‘ValueError ‘ exception\n",
    "    except ValueError:\n",
    "        return False\n",
    "    return True"
   ]
  },
  {
   "cell_type": "code",
   "execution_count": 32,
   "metadata": {},
   "outputs": [
    {
     "name": "stdout",
     "output_type": "stream",
     "text": [
      "sigmoid: f(1.5) = 0.8175744761936437\n",
      "x must be a number\n",
      "belu is not supported\n"
     ]
    }
   ],
   "source": [
    "import math\n",
    "ALPHA = 0.01\n",
    "\n",
    "def sigmoid(n):\n",
    "    result = 1/(1 + (math.e)**(-n))\n",
    "    return print(f'sigmoid: f({n}) = {result}')\n",
    "\n",
    "def relu(n):\n",
    "    result = 0 if n <= 0 else n\n",
    "    return print(f'relu: f({n}) = {result}')\n",
    "\n",
    "def elu(n):\n",
    "    result = ALPHA*(math.e**n - 1) if n <= 0 else n\n",
    "    return print(f'elu: f({n}) = {result}')\n",
    "\n",
    "def activate_func():\n",
    "    '''\n",
    "    This function takes a numerical input (x) and applies a specified activation function.\n",
    "\n",
    "    Supported activation functions:\n",
    "        - sigmoid\n",
    "        - relu\n",
    "        - elu\n",
    "\n",
    "    Returns:\n",
    "    The result of applying the chosen activation function to x.\n",
    "\n",
    "    Raises:\n",
    "    ValueError: If the input (x) is not a number or the chosen activation function is not supported.\n",
    "    '''\n",
    "    # Check input must be a number\n",
    "    x = input('Input x = ')\n",
    "    if (is_number(x) == False):\n",
    "        return print('x must be a number')\n",
    "\n",
    "    x = float(x)\n",
    "\n",
    "    # Check supported function\n",
    "    func = input('Input activation Function (sigmoid|relu|elu): ')\n",
    "    if (func != 'sigmoid') and (func != 'relu') and (func != 'elu'):\n",
    "        return print(f'{func} is not supported')\n",
    "    \n",
    "    # Calculate activation function\n",
    "    if (func == 'sigmoid'):\n",
    "        return sigmoid(x)\n",
    "    if (func == 'relu'):\n",
    "        return relu(x)\n",
    "    if (func == 'elu'):\n",
    "        return elu(x)\n",
    "activate_func()\n",
    "activate_func()\n",
    "activate_func()"
   ]
  }
 ],
 "metadata": {
  "kernelspec": {
   "display_name": "base",
   "language": "python",
   "name": "python3"
  },
  "language_info": {
   "codemirror_mode": {
    "name": "ipython",
    "version": 3
   },
   "file_extension": ".py",
   "mimetype": "text/x-python",
   "name": "python",
   "nbconvert_exporter": "python",
   "pygments_lexer": "ipython3",
   "version": "3.12.2"
  }
 },
 "nbformat": 4,
 "nbformat_minor": 2
}
