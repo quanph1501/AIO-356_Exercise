{
 "cells": [
  {
   "cell_type": "code",
   "execution_count": 17,
   "metadata": {},
   "outputs": [
    {
     "name": "stdout",
     "output_type": "stream",
     "text": [
      "tensor([0.0900, 0.2447, 0.6652])\n",
      "tensor([0.0900, 0.2447, 0.6652])\n"
     ]
    }
   ],
   "source": [
    "import torch\n",
    "import torch.nn as nn\n",
    "\n",
    "class Softmax(nn.Module):\n",
    "    def __init__(self):\n",
    "        super().__init__()\n",
    "    def forward(self, x):\n",
    "        exp_x = torch.exp(x)\n",
    "        return exp_x / sum(exp_x)\n",
    "\n",
    "class SoftmaxStable(nn.Module):\n",
    "    def __init__(self):\n",
    "        super().__init__()\n",
    "    def forward(self, x):\n",
    "        c = max(x)\n",
    "        exp_x = torch.exp(x - c)\n",
    "        return exp_x / sum(exp_x)\n",
    "\n",
    "data = torch.tensor([1, 2, 3])\n",
    "softmax = Softmax()\n",
    "print(softmax(data))\n",
    "\n",
    "softmax_stable = SoftmaxStable()\n",
    "print(softmax_stable(data))"
   ]
  }
 ],
 "metadata": {
  "kernelspec": {
   "display_name": "base",
   "language": "python",
   "name": "python3"
  },
  "language_info": {
   "codemirror_mode": {
    "name": "ipython",
    "version": 3
   },
   "file_extension": ".py",
   "mimetype": "text/x-python",
   "name": "python",
   "nbconvert_exporter": "python",
   "pygments_lexer": "ipython3",
   "version": "3.1.-1"
  }
 },
 "nbformat": 4,
 "nbformat_minor": 2
}
