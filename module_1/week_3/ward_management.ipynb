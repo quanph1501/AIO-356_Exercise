{
 "cells": [
  {
   "cell_type": "code",
   "execution_count": 1,
   "metadata": {},
   "outputs": [],
   "source": [
    "from abc import ABC, abstractmethod\n",
    "class Person(ABC):\n",
    "    def __init__(self, name, yob):\n",
    "        self._name = name\n",
    "        self._yob = yob\n",
    "\n",
    "    def get_yob(self):\n",
    "        return self._yob\n",
    "\n",
    "    @abstractmethod\n",
    "    def describe(self):\n",
    "        pass"
   ]
  },
  {
   "cell_type": "code",
   "execution_count": 2,
   "metadata": {},
   "outputs": [],
   "source": [
    "class Student(Person):\n",
    "    def __init__(self, name, yob, grade):\n",
    "        super().__init__(name, yob)\n",
    "        self.__grade = grade\n",
    "    \n",
    "    def describe(self):\n",
    "        print(f\"Student - Name: {self._name} - YoB: {self._yob} - Grade: {self.__grade}\")"
   ]
  },
  {
   "cell_type": "code",
   "execution_count": 3,
   "metadata": {},
   "outputs": [],
   "source": [
    "class Teacher(Person):\n",
    "    def __init__(self, name, yob, subject):\n",
    "        super().__init__(name, yob)\n",
    "        self.__subject = subject\n",
    "    def describe(self):\n",
    "        print(f\"Teacher - Name: {self._name} - YoB: {self._yob} - Subject: {self.__subject}\")"
   ]
  },
  {
   "cell_type": "code",
   "execution_count": 4,
   "metadata": {},
   "outputs": [],
   "source": [
    "class Doctor(Person):\n",
    "    def __init__(self, name, yob, specialist):\n",
    "        super().__init__(name, yob)\n",
    "        self.__specialist = specialist\n",
    "    def describe(self):\n",
    "        print(f\"Doctor - Name: {self._name} - YoB: {self._yob} - Specialist: {self.__specialist}\")"
   ]
  },
  {
   "cell_type": "code",
   "execution_count": 5,
   "metadata": {},
   "outputs": [],
   "source": [
    "class Ward:\n",
    "    def __init__(self, name, people = []):\n",
    "        self.__name = name\n",
    "        self.__people = people\n",
    "\n",
    "    def add_person(self, person):\n",
    "        self.__people.append(person)\n",
    "\n",
    "    def describe(self):\n",
    "        print(f\"Ward: {self.__name}\")\n",
    "        for person in self.__people:\n",
    "            person.describe()\n",
    "\n",
    "    def count_doctor(self):\n",
    "        count = 0\n",
    "        for person in self.__people:\n",
    "            if isinstance(person, Doctor):\n",
    "                count += 1\n",
    "        return count\n",
    "\n",
    "    def sort_age(self):\n",
    "        self.__people.sort(key = lambda x: x.get_yob(), reverse = True)\n",
    "\n",
    "    def compute_average(self):\n",
    "        sum = 0\n",
    "        count = 0\n",
    "        for person in self.__people:\n",
    "            if isinstance(person, Teacher):\n",
    "                sum += person.get_yob()\n",
    "                count += 1\n",
    "        return sum/count"
   ]
  },
  {
   "cell_type": "markdown",
   "metadata": {},
   "source": [
    "2a"
   ]
  },
  {
   "cell_type": "code",
   "execution_count": 6,
   "metadata": {},
   "outputs": [
    {
     "name": "stdout",
     "output_type": "stream",
     "text": [
      "Student - Name: studentA - YoB: 2010 - Grade: 7\n"
     ]
    }
   ],
   "source": [
    "student1 = Student(\"studentA\", 2010, \"7\")\n",
    "student1.describe()"
   ]
  },
  {
   "cell_type": "code",
   "execution_count": 7,
   "metadata": {},
   "outputs": [
    {
     "name": "stdout",
     "output_type": "stream",
     "text": [
      "Teacher - Name: teacherA - YoB: 1969 - Subject: Math\n"
     ]
    }
   ],
   "source": [
    "teacher1 = Teacher(\"teacherA\", 1969, \"Math\")\n",
    "teacher1.describe()"
   ]
  },
  {
   "cell_type": "code",
   "execution_count": 8,
   "metadata": {},
   "outputs": [
    {
     "name": "stdout",
     "output_type": "stream",
     "text": [
      "Doctor - Name: doctorA - YoB: 1945 - Specialist: Endocrinologists\n"
     ]
    }
   ],
   "source": [
    "doctor1 = Doctor(\"doctorA\", 1945, \"Endocrinologists\")\n",
    "doctor1.describe()"
   ]
  },
  {
   "cell_type": "markdown",
   "metadata": {},
   "source": [
    "2b"
   ]
  },
  {
   "cell_type": "code",
   "execution_count": 9,
   "metadata": {},
   "outputs": [
    {
     "name": "stdout",
     "output_type": "stream",
     "text": [
      "Ward: Ward1\n",
      "Student - Name: studentA - YoB: 2010 - Grade: 7\n",
      "Teacher - Name: teacherA - YoB: 1969 - Subject: Math\n",
      "Doctor - Name: doctorA - YoB: 1945 - Specialist: Endocrinologists\n",
      "Teacher - Name: teacherB - YoB: 1995 - Subject: History\n",
      "Doctor - Name: doctorB - YoB: 1975 - Specialist: Cardiologists\n"
     ]
    }
   ],
   "source": [
    "teacher2 = Teacher(\"teacherB\", 1995, \"History\")\n",
    "doctor2 = Doctor(\"doctorB\", 1975, \"Cardiologists\")\n",
    "\n",
    "ward1 = Ward(\"Ward1\")\n",
    "\n",
    "ward1.add_person(student1)\n",
    "ward1.add_person(teacher1)\n",
    "ward1.add_person(doctor1)\n",
    "ward1.add_person(teacher2)\n",
    "ward1.add_person(doctor2)\n",
    "\n",
    "ward1.describe()"
   ]
  },
  {
   "cell_type": "markdown",
   "metadata": {},
   "source": [
    "2c"
   ]
  },
  {
   "cell_type": "code",
   "execution_count": 10,
   "metadata": {},
   "outputs": [
    {
     "name": "stdout",
     "output_type": "stream",
     "text": [
      "Number of doctor(s): 2\n"
     ]
    }
   ],
   "source": [
    "print(f\"Number of doctor(s): {ward1.count_doctor()}\")"
   ]
  },
  {
   "cell_type": "markdown",
   "metadata": {},
   "source": [
    "2d"
   ]
  },
  {
   "cell_type": "code",
   "execution_count": 11,
   "metadata": {},
   "outputs": [
    {
     "name": "stdout",
     "output_type": "stream",
     "text": [
      "After sorting Age of Ward1 people\n",
      "Ward: Ward1\n",
      "Student - Name: studentA - YoB: 2010 - Grade: 7\n",
      "Teacher - Name: teacherB - YoB: 1995 - Subject: History\n",
      "Doctor - Name: doctorB - YoB: 1975 - Specialist: Cardiologists\n",
      "Teacher - Name: teacherA - YoB: 1969 - Subject: Math\n",
      "Doctor - Name: doctorA - YoB: 1945 - Specialist: Endocrinologists\n"
     ]
    }
   ],
   "source": [
    "print(\"After sorting Age of Ward1 people\")\n",
    "ward1.sort_age()\n",
    "ward1.describe()"
   ]
  },
  {
   "cell_type": "markdown",
   "metadata": {},
   "source": [
    "2e"
   ]
  },
  {
   "cell_type": "code",
   "execution_count": 12,
   "metadata": {},
   "outputs": [
    {
     "name": "stdout",
     "output_type": "stream",
     "text": [
      "Average year of birth (teachers): 1982.0\n"
     ]
    }
   ],
   "source": [
    "print(f\"Average year of birth (teachers): {ward1.compute_average()}\")"
   ]
  }
 ],
 "metadata": {
  "kernelspec": {
   "display_name": "base",
   "language": "python",
   "name": "python3"
  },
  "language_info": {
   "codemirror_mode": {
    "name": "ipython",
    "version": 3
   },
   "file_extension": ".py",
   "mimetype": "text/x-python",
   "name": "python",
   "nbconvert_exporter": "python",
   "pygments_lexer": "ipython3",
   "version": "3.12.2"
  }
 },
 "nbformat": 4,
 "nbformat_minor": 2
}
